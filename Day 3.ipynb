{
 "cells": [
  {
   "cell_type": "code",
   "execution_count": 1,
   "id": "1cf412f9",
   "metadata": {},
   "outputs": [
    {
     "name": "stdout",
     "output_type": "stream",
     "text": [
      "Enter the first number:4.23\n",
      "Enter the second number:3.45\n"
     ]
    }
   ],
   "source": [
    "x=float(input('Enter the first number:'))\n",
    "y=float(input('Enter the second number:'))\n"
   ]
  },
  {
   "cell_type": "code",
   "execution_count": 2,
   "id": "2e163294",
   "metadata": {},
   "outputs": [],
   "source": [
    "x+=4    "
   ]
  },
  {
   "cell_type": "code",
   "execution_count": 6,
   "id": "576eee22",
   "metadata": {},
   "outputs": [
    {
     "name": "stdout",
     "output_type": "stream",
     "text": [
      "8.23\n"
     ]
    }
   ],
   "source": [
    "print(x)"
   ]
  },
  {
   "cell_type": "code",
   "execution_count": 7,
   "id": "61166a8c",
   "metadata": {},
   "outputs": [
    {
     "data": {
      "text/plain": [
       "False"
      ]
     },
     "execution_count": 7,
     "metadata": {},
     "output_type": "execute_result"
    }
   ],
   "source": [
    "2<3 and 1<0   #Logical operation"
   ]
  },
  {
   "cell_type": "code",
   "execution_count": 8,
   "id": "30e1c64a",
   "metadata": {},
   "outputs": [
    {
     "data": {
      "text/plain": [
       "True"
      ]
     },
     "execution_count": 8,
     "metadata": {},
     "output_type": "execute_result"
    }
   ],
   "source": [
    "not(2<3 and 1<0)  #And ma sabai true hunuparxa"
   ]
  },
  {
   "cell_type": "code",
   "execution_count": 9,
   "id": "b2f921b8",
   "metadata": {},
   "outputs": [
    {
     "data": {
      "text/plain": [
       "True"
      ]
     },
     "execution_count": 9,
     "metadata": {},
     "output_type": "execute_result"
    }
   ],
   "source": [
    "2<3 or 1<0      #Or ma euta true vaye value true aauxa"
   ]
  },
  {
   "cell_type": "markdown",
   "id": "d06454c3",
   "metadata": {},
   "source": [
    "# Data Types"
   ]
  },
  {
   "cell_type": "code",
   "execution_count": 10,
   "id": "e21eee59",
   "metadata": {},
   "outputs": [],
   "source": [
    "#string\n",
    "x= \"I am a Python Developer\""
   ]
  },
  {
   "cell_type": "code",
   "execution_count": 11,
   "id": "af865ec3",
   "metadata": {},
   "outputs": [
    {
     "data": {
      "text/plain": [
       "23"
      ]
     },
     "execution_count": 11,
     "metadata": {},
     "output_type": "execute_result"
    }
   ],
   "source": [
    "len(x)"
   ]
  },
  {
   "cell_type": "code",
   "execution_count": 12,
   "id": "3167783e",
   "metadata": {},
   "outputs": [
    {
     "data": {
      "text/plain": [
       "'a '"
      ]
     },
     "execution_count": 12,
     "metadata": {},
     "output_type": "execute_result"
    }
   ],
   "source": [
    "x[5:7]"
   ]
  },
  {
   "cell_type": "code",
   "execution_count": 13,
   "id": "07840b18",
   "metadata": {},
   "outputs": [
    {
     "data": {
      "text/plain": [
       "' Developer'"
      ]
     },
     "execution_count": 13,
     "metadata": {},
     "output_type": "execute_result"
    }
   ],
   "source": [
    "x[13:23]    #mathi assign gareko string ko letter haro print garxa including white character"
   ]
  },
  {
   "cell_type": "code",
   "execution_count": 14,
   "id": "5c8cee3f",
   "metadata": {},
   "outputs": [
    {
     "data": {
      "text/plain": [
       "'Python Developer'"
      ]
     },
     "execution_count": 14,
     "metadata": {},
     "output_type": "execute_result"
    }
   ],
   "source": [
    "x[7:]  #index ko number paxi sabai print hunxa"
   ]
  },
  {
   "cell_type": "code",
   "execution_count": 19,
   "id": "bffd0da2",
   "metadata": {},
   "outputs": [
    {
     "data": {
      "text/plain": [
       "'repoleveD nohtyP a ma I'"
      ]
     },
     "execution_count": 19,
     "metadata": {},
     "output_type": "execute_result"
    }
   ],
   "source": [
    "x[::-1]#inverse print of string"
   ]
  },
  {
   "cell_type": "code",
   "execution_count": 21,
   "id": "db90d94a",
   "metadata": {},
   "outputs": [
    {
     "name": "stdout",
     "output_type": "stream",
     "text": [
      "Enter the stringMy name is Sabina\n"
     ]
    }
   ],
   "source": [
    "x=input('Enter the string')"
   ]
  },
  {
   "cell_type": "code",
   "execution_count": 22,
   "id": "abcf0d9a",
   "metadata": {},
   "outputs": [
    {
     "data": {
      "text/plain": [
       "'anibaS si eman yM'"
      ]
     },
     "execution_count": 22,
     "metadata": {},
     "output_type": "execute_result"
    }
   ],
   "source": [
    "x[::-1]"
   ]
  },
  {
   "cell_type": "code",
   "execution_count": 27,
   "id": "efec2405",
   "metadata": {},
   "outputs": [
    {
     "data": {
      "text/plain": [
       "'My name is Sabin'"
      ]
     },
     "execution_count": 27,
     "metadata": {},
     "output_type": "execute_result"
    }
   ],
   "source": [
    "x[:-1]"
   ]
  },
  {
   "cell_type": "code",
   "execution_count": 30,
   "id": "3ef1b5db",
   "metadata": {},
   "outputs": [],
   "source": [
    "y=x.split()"
   ]
  },
  {
   "cell_type": "code",
   "execution_count": 31,
   "id": "e2ffe48f",
   "metadata": {},
   "outputs": [
    {
     "data": {
      "text/plain": [
       "['My', 'name', 'is', 'Sabina']"
      ]
     },
     "execution_count": 31,
     "metadata": {},
     "output_type": "execute_result"
    }
   ],
   "source": [
    "y"
   ]
  },
  {
   "cell_type": "code",
   "execution_count": 32,
   "id": "4030d968",
   "metadata": {},
   "outputs": [],
   "source": [
    "a='I//am/a/python/developer'"
   ]
  },
  {
   "cell_type": "code",
   "execution_count": 33,
   "id": "e1f1de08",
   "metadata": {},
   "outputs": [],
   "source": [
    "b=a.split('/')"
   ]
  },
  {
   "cell_type": "code",
   "execution_count": 35,
   "id": "af4ce8fa",
   "metadata": {},
   "outputs": [
    {
     "data": {
      "text/plain": [
       "['I', '', 'am', 'a', 'python', 'developer']"
      ]
     },
     "execution_count": 35,
     "metadata": {},
     "output_type": "execute_result"
    }
   ],
   "source": [
    "b"
   ]
  },
  {
   "cell_type": "markdown",
   "id": "66161eb3",
   "metadata": {},
   "source": [
    "# List"
   ]
  },
  {
   "cell_type": "code",
   "execution_count": 38,
   "id": "fd1fbc2b",
   "metadata": {},
   "outputs": [
    {
     "data": {
      "text/plain": [
       "<function str.capitalize()>"
      ]
     },
     "execution_count": 38,
     "metadata": {},
     "output_type": "execute_result"
    }
   ],
   "source": [
    "x.capitalize"
   ]
  },
  {
   "cell_type": "code",
   "execution_count": 37,
   "id": "a95a092e",
   "metadata": {},
   "outputs": [
    {
     "name": "stdout",
     "output_type": "stream",
     "text": [
      "Enter the stringI am a Python Developer\n"
     ]
    }
   ],
   "source": [
    "x=input('Enter the string')"
   ]
  },
  {
   "cell_type": "code",
   "execution_count": 39,
   "id": "c1affd50",
   "metadata": {},
   "outputs": [
    {
     "data": {
      "text/plain": [
       "'I am a python developer'"
      ]
     },
     "execution_count": 39,
     "metadata": {},
     "output_type": "execute_result"
    }
   ],
   "source": [
    "x.capitalize()"
   ]
  },
  {
   "cell_type": "code",
   "execution_count": 40,
   "id": "3f1d49df",
   "metadata": {},
   "outputs": [
    {
     "data": {
      "text/plain": [
       "'i am a python developer'"
      ]
     },
     "execution_count": 40,
     "metadata": {},
     "output_type": "execute_result"
    }
   ],
   "source": [
    "x.casefold()"
   ]
  },
  {
   "cell_type": "code",
   "execution_count": 42,
   "id": "06489066",
   "metadata": {},
   "outputs": [
    {
     "data": {
      "text/plain": [
       "2"
      ]
     },
     "execution_count": 42,
     "metadata": {},
     "output_type": "execute_result"
    }
   ],
   "source": [
    "x.count('o')"
   ]
  },
  {
   "cell_type": "code",
   "execution_count": 54,
   "id": "dadc3316",
   "metadata": {},
   "outputs": [
    {
     "ename": "AttributeError",
     "evalue": "'int' object has no attribute 'center'",
     "output_type": "error",
     "traceback": [
      "\u001b[1;31m---------------------------------------------------------------------------\u001b[0m",
      "\u001b[1;31mAttributeError\u001b[0m                            Traceback (most recent call last)",
      "Cell \u001b[1;32mIn[54], line 1\u001b[0m\n\u001b[1;32m----> 1\u001b[0m \u001b[43mx\u001b[49m\u001b[38;5;241;43m.\u001b[39;49m\u001b[43mcenter\u001b[49m(\u001b[38;5;241m40\u001b[39m)\n",
      "\u001b[1;31mAttributeError\u001b[0m: 'int' object has no attribute 'center'"
     ]
    }
   ],
   "source": [
    "x.center(40)"
   ]
  },
  {
   "cell_type": "code",
   "execution_count": 55,
   "id": "9e3371f3",
   "metadata": {},
   "outputs": [
    {
     "name": "stdout",
     "output_type": "stream",
     "text": [
      "Enter the stringI am a python developer\n"
     ]
    }
   ],
   "source": [
    "x=input('Enter the string')"
   ]
  },
  {
   "cell_type": "code",
   "execution_count": 56,
   "id": "5047b088",
   "metadata": {},
   "outputs": [
    {
     "data": {
      "text/plain": [
       "'      I am a python developer      '"
      ]
     },
     "execution_count": 56,
     "metadata": {},
     "output_type": "execute_result"
    }
   ],
   "source": [
    "x.center(35)"
   ]
  },
  {
   "cell_type": "code",
   "execution_count": 57,
   "id": "2b923fb0",
   "metadata": {},
   "outputs": [
    {
     "data": {
      "text/plain": [
       "b'I am a python developer'"
      ]
     },
     "execution_count": 57,
     "metadata": {},
     "output_type": "execute_result"
    }
   ],
   "source": [
    "x.encode()"
   ]
  },
  {
   "cell_type": "code",
   "execution_count": 58,
   "id": "1f215a69",
   "metadata": {},
   "outputs": [
    {
     "data": {
      "text/plain": [
       "False"
      ]
     },
     "execution_count": 58,
     "metadata": {},
     "output_type": "execute_result"
    }
   ],
   "source": [
    "x.isalpha()"
   ]
  },
  {
   "cell_type": "code",
   "execution_count": 62,
   "id": "6ba7fdb5",
   "metadata": {},
   "outputs": [],
   "source": [
    "m=\"pyt 4hon\""
   ]
  },
  {
   "cell_type": "code",
   "execution_count": 63,
   "id": "1470255b",
   "metadata": {},
   "outputs": [
    {
     "data": {
      "text/plain": [
       "False"
      ]
     },
     "execution_count": 63,
     "metadata": {},
     "output_type": "execute_result"
    }
   ],
   "source": [
    "m.isalpha()"
   ]
  },
  {
   "cell_type": "code",
   "execution_count": null,
   "id": "b65f1216",
   "metadata": {},
   "outputs": [],
   "source": [
    "x."
   ]
  }
 ],
 "metadata": {
  "kernelspec": {
   "display_name": "Python 3 (ipykernel)",
   "language": "python",
   "name": "python3"
  },
  "language_info": {
   "codemirror_mode": {
    "name": "ipython",
    "version": 3
   },
   "file_extension": ".py",
   "mimetype": "text/x-python",
   "name": "python",
   "nbconvert_exporter": "python",
   "pygments_lexer": "ipython3",
   "version": "3.11.1"
  }
 },
 "nbformat": 4,
 "nbformat_minor": 5
}
