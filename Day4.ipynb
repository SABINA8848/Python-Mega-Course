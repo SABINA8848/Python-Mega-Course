{
 "cells": [
  {
   "cell_type": "markdown",
   "id": "094f50ab",
   "metadata": {},
   "source": [
    "# List"
   ]
  },
  {
   "cell_type": "code",
   "execution_count": 1,
   "id": "5588c266",
   "metadata": {},
   "outputs": [],
   "source": [
    "#list refers to  the collection of element. it is included in []."
   ]
  },
  {
   "cell_type": "code",
   "execution_count": 3,
   "id": "973185e1",
   "metadata": {},
   "outputs": [],
   "source": [
    "x=[1,2,3, 'HT', 2.67890, 'Sabina', 'Hexcode']"
   ]
  },
  {
   "cell_type": "code",
   "execution_count": 5,
   "id": "85d0c4b4",
   "metadata": {},
   "outputs": [
    {
     "data": {
      "text/plain": [
       "[1, 2, 3, 'HT', 2.6789, 'Sabina', 'Hexcode']"
      ]
     },
     "execution_count": 5,
     "metadata": {},
     "output_type": "execute_result"
    }
   ],
   "source": [
    "x"
   ]
  },
  {
   "cell_type": "code",
   "execution_count": 7,
   "id": "7721d223",
   "metadata": {},
   "outputs": [
    {
     "data": {
      "text/plain": [
       "list"
      ]
     },
     "execution_count": 7,
     "metadata": {},
     "output_type": "execute_result"
    }
   ],
   "source": [
    "type(x) #shows type of the data"
   ]
  },
  {
   "cell_type": "code",
   "execution_count": 9,
   "id": "814297b4",
   "metadata": {},
   "outputs": [
    {
     "data": {
      "text/plain": [
       "3"
      ]
     },
     "execution_count": 9,
     "metadata": {},
     "output_type": "execute_result"
    }
   ],
   "source": [
    "x[2] #element ko position declare garera element dekhauxa"
   ]
  },
  {
   "cell_type": "code",
   "execution_count": 10,
   "id": "0c912b47",
   "metadata": {},
   "outputs": [
    {
     "data": {
      "text/plain": [
       "int"
      ]
     },
     "execution_count": 10,
     "metadata": {},
     "output_type": "execute_result"
    }
   ],
   "source": [
    "type(x[2]) #type of the element"
   ]
  },
  {
   "cell_type": "code",
   "execution_count": 14,
   "id": "05a4c0e2",
   "metadata": {},
   "outputs": [
    {
     "data": {
      "text/plain": [
       "'Sabina Hexcode'"
      ]
     },
     "execution_count": 14,
     "metadata": {},
     "output_type": "execute_result"
    }
   ],
   "source": [
    "x[5]+\" \"+x[6] #addition of element"
   ]
  },
  {
   "cell_type": "code",
   "execution_count": 15,
   "id": "f36a37fb",
   "metadata": {},
   "outputs": [
    {
     "data": {
      "text/plain": [
       "7"
      ]
     },
     "execution_count": 15,
     "metadata": {},
     "output_type": "execute_result"
    }
   ],
   "source": [
    "len(x) #no.of element"
   ]
  },
  {
   "cell_type": "code",
   "execution_count": 16,
   "id": "fe2c2c4b",
   "metadata": {},
   "outputs": [
    {
     "data": {
      "text/plain": [
       "['Hexcode', 'Sabina', 2.6789, 'HT', 3, 2, 1]"
      ]
     },
     "execution_count": 16,
     "metadata": {},
     "output_type": "execute_result"
    }
   ],
   "source": [
    "x[::-1]"
   ]
  },
  {
   "cell_type": "code",
   "execution_count": 17,
   "id": "20dfa3cd",
   "metadata": {},
   "outputs": [
    {
     "data": {
      "text/plain": [
       "[3, 'HT', 2.6789, 'Sabina']"
      ]
     },
     "execution_count": 17,
     "metadata": {},
     "output_type": "execute_result"
    }
   ],
   "source": [
    "x[2:6]"
   ]
  },
  {
   "cell_type": "code",
   "execution_count": 20,
   "id": "8351c157",
   "metadata": {},
   "outputs": [],
   "source": [
    "y=[]"
   ]
  },
  {
   "cell_type": "code",
   "execution_count": 19,
   "id": "f187e861",
   "metadata": {},
   "outputs": [],
   "source": [
    "#append() list append('Hex')"
   ]
  },
  {
   "cell_type": "code",
   "execution_count": 21,
   "id": "7e5d44eb",
   "metadata": {},
   "outputs": [],
   "source": [
    "y.append('hex')"
   ]
  },
  {
   "cell_type": "code",
   "execution_count": 22,
   "id": "22ab2c8a",
   "metadata": {},
   "outputs": [
    {
     "data": {
      "text/plain": [
       "['hex']"
      ]
     },
     "execution_count": 22,
     "metadata": {},
     "output_type": "execute_result"
    }
   ],
   "source": [
    "y"
   ]
  },
  {
   "cell_type": "code",
   "execution_count": 23,
   "id": "e976a440",
   "metadata": {},
   "outputs": [],
   "source": [
    "x.append('Hex')"
   ]
  },
  {
   "cell_type": "code",
   "execution_count": 24,
   "id": "b3ee96aa",
   "metadata": {},
   "outputs": [
    {
     "data": {
      "text/plain": [
       "['Hex']"
      ]
     },
     "execution_count": 24,
     "metadata": {},
     "output_type": "execute_result"
    }
   ],
   "source": [
    "x"
   ]
  },
  {
   "cell_type": "code",
   "execution_count": 25,
   "id": "41c5a60c",
   "metadata": {},
   "outputs": [],
   "source": [
    "y.append('Nepal')"
   ]
  },
  {
   "cell_type": "code",
   "execution_count": 26,
   "id": "21c750e2",
   "metadata": {},
   "outputs": [],
   "source": [
    "y.append('2023')"
   ]
  },
  {
   "cell_type": "code",
   "execution_count": 27,
   "id": "6e684532",
   "metadata": {},
   "outputs": [],
   "source": [
    "y.append('Python')"
   ]
  },
  {
   "cell_type": "code",
   "execution_count": 28,
   "id": "cf816716",
   "metadata": {},
   "outputs": [
    {
     "data": {
      "text/plain": [
       "['hex', 'Nepal', '2023', 'Python']"
      ]
     },
     "execution_count": 28,
     "metadata": {},
     "output_type": "execute_result"
    }
   ],
   "source": [
    "y"
   ]
  },
  {
   "cell_type": "code",
   "execution_count": 30,
   "id": "a232e8c9",
   "metadata": {},
   "outputs": [],
   "source": [
    "y.insert(1,'Code')"
   ]
  },
  {
   "cell_type": "code",
   "execution_count": 31,
   "id": "0c4baaa0",
   "metadata": {},
   "outputs": [
    {
     "data": {
      "text/plain": [
       "['hex', 'Code', 'Nepal', '2023', 'Python']"
      ]
     },
     "execution_count": 31,
     "metadata": {},
     "output_type": "execute_result"
    }
   ],
   "source": [
    "y"
   ]
  },
  {
   "cell_type": "code",
   "execution_count": 33,
   "id": "1aff7d53",
   "metadata": {},
   "outputs": [
    {
     "data": {
      "text/plain": [
       "'Python'"
      ]
     },
     "execution_count": 33,
     "metadata": {},
     "output_type": "execute_result"
    }
   ],
   "source": [
    "y.pop(4)"
   ]
  },
  {
   "cell_type": "code",
   "execution_count": 36,
   "id": "a7004326",
   "metadata": {},
   "outputs": [
    {
     "data": {
      "text/plain": [
       "0"
      ]
     },
     "execution_count": 36,
     "metadata": {},
     "output_type": "execute_result"
    }
   ],
   "source": [
    "y.count(2)"
   ]
  },
  {
   "cell_type": "code",
   "execution_count": 39,
   "id": "6c5355ff",
   "metadata": {},
   "outputs": [],
   "source": [
    "y[1]= 'Academy' #replace the element by delcaring the posititon "
   ]
  },
  {
   "cell_type": "code",
   "execution_count": 40,
   "id": "38e8465c",
   "metadata": {},
   "outputs": [
    {
     "data": {
      "text/plain": [
       "['hex', 'Academy', 'Nepal', '2023']"
      ]
     },
     "execution_count": 40,
     "metadata": {},
     "output_type": "execute_result"
    }
   ],
   "source": [
    "y"
   ]
  },
  {
   "cell_type": "code",
   "execution_count": 42,
   "id": "f1ab05ba",
   "metadata": {},
   "outputs": [],
   "source": [
    "y.append('Python')#addition of elemnet"
   ]
  },
  {
   "cell_type": "code",
   "execution_count": 43,
   "id": "9bd6f489",
   "metadata": {},
   "outputs": [
    {
     "data": {
      "text/plain": [
       "['hex', 'Academy', 'Nepal', '2023', 'Python']"
      ]
     },
     "execution_count": 43,
     "metadata": {},
     "output_type": "execute_result"
    }
   ],
   "source": [
    "y"
   ]
  },
  {
   "cell_type": "code",
   "execution_count": 45,
   "id": "b40ae585",
   "metadata": {},
   "outputs": [
    {
     "data": {
      "text/plain": [
       "['hex', 'Academy', 'Nepal', '2023', 'Python']"
      ]
     },
     "execution_count": 45,
     "metadata": {},
     "output_type": "execute_result"
    }
   ],
   "source": [
    "y.copy()"
   ]
  },
  {
   "cell_type": "code",
   "execution_count": 47,
   "id": "c87b9925",
   "metadata": {},
   "outputs": [],
   "source": [
    "y.insert(1, 'Code') #this allows the delcared element to be in the position and the previous elemnet shift the position"
   ]
  },
  {
   "cell_type": "code",
   "execution_count": 48,
   "id": "125e94cb",
   "metadata": {},
   "outputs": [
    {
     "data": {
      "text/plain": [
       "['hex', 'Code', 'Academy', 'Nepal', '2023', 'Python']"
      ]
     },
     "execution_count": 48,
     "metadata": {},
     "output_type": "execute_result"
    }
   ],
   "source": [
    "y"
   ]
  },
  {
   "cell_type": "code",
   "execution_count": 61,
   "id": "d659266f",
   "metadata": {},
   "outputs": [],
   "source": [
    "y[1:4]=['code', 'USA', '2023']#replacing the multiple elemnet "
   ]
  },
  {
   "cell_type": "code",
   "execution_count": 51,
   "id": "daee7b80",
   "metadata": {},
   "outputs": [
    {
     "data": {
      "text/plain": [
       "['hex', 'code', 'USA', '2023', '2023', 'Python']"
      ]
     },
     "execution_count": 51,
     "metadata": {},
     "output_type": "execute_result"
    }
   ],
   "source": [
    "y"
   ]
  },
  {
   "cell_type": "code",
   "execution_count": 69,
   "id": "731bbd94",
   "metadata": {},
   "outputs": [],
   "source": [
    "y.remove('hex') #use[] when indexing..() when using method ...to delete the element use remove"
   ]
  },
  {
   "cell_type": "code",
   "execution_count": 55,
   "id": "2a27aebe",
   "metadata": {},
   "outputs": [
    {
     "data": {
      "text/plain": [
       "['hex', 'USA', '2023', '2023', 'Python']"
      ]
     },
     "execution_count": 55,
     "metadata": {},
     "output_type": "execute_result"
    }
   ],
   "source": [
    "y"
   ]
  },
  {
   "cell_type": "code",
   "execution_count": 70,
   "id": "2551091c",
   "metadata": {},
   "outputs": [],
   "source": [
    "y.clear()"
   ]
  },
  {
   "cell_type": "code",
   "execution_count": 71,
   "id": "8d1f64d0",
   "metadata": {},
   "outputs": [
    {
     "data": {
      "text/plain": [
       "[]"
      ]
     },
     "execution_count": 71,
     "metadata": {},
     "output_type": "execute_result"
    }
   ],
   "source": [
    "y"
   ]
  },
  {
   "cell_type": "code",
   "execution_count": 72,
   "id": "e70450fa",
   "metadata": {},
   "outputs": [
    {
     "data": {
      "text/plain": [
       "[]"
      ]
     },
     "execution_count": 72,
     "metadata": {},
     "output_type": "execute_result"
    }
   ],
   "source": [
    "y"
   ]
  },
  {
   "cell_type": "code",
   "execution_count": 73,
   "id": "1f15d170",
   "metadata": {},
   "outputs": [
    {
     "data": {
      "text/plain": [
       "['Hex']"
      ]
     },
     "execution_count": 73,
     "metadata": {},
     "output_type": "execute_result"
    }
   ],
   "source": [
    "x"
   ]
  },
  {
   "cell_type": "code",
   "execution_count": 74,
   "id": "fc4bc3b5",
   "metadata": {},
   "outputs": [],
   "source": [
    "x.append('nepal')"
   ]
  },
  {
   "cell_type": "code",
   "execution_count": 75,
   "id": "c4327c97",
   "metadata": {},
   "outputs": [
    {
     "data": {
      "text/plain": [
       "['Hex', 'nepal']"
      ]
     },
     "execution_count": 75,
     "metadata": {},
     "output_type": "execute_result"
    }
   ],
   "source": [
    "x"
   ]
  },
  {
   "cell_type": "code",
   "execution_count": 76,
   "id": "3fa46296",
   "metadata": {},
   "outputs": [],
   "source": [
    "x.append('code')"
   ]
  },
  {
   "cell_type": "code",
   "execution_count": 77,
   "id": "407e3e7a",
   "metadata": {},
   "outputs": [
    {
     "data": {
      "text/plain": [
       "['Hex', 'nepal', 'code']"
      ]
     },
     "execution_count": 77,
     "metadata": {},
     "output_type": "execute_result"
    }
   ],
   "source": [
    "x"
   ]
  },
  {
   "cell_type": "code",
   "execution_count": 78,
   "id": "f2b8011a",
   "metadata": {},
   "outputs": [
    {
     "data": {
      "text/plain": [
       "'code'"
      ]
     },
     "execution_count": 78,
     "metadata": {},
     "output_type": "execute_result"
    }
   ],
   "source": [
    "x.pop()"
   ]
  },
  {
   "cell_type": "code",
   "execution_count": 79,
   "id": "7c6b87e7",
   "metadata": {},
   "outputs": [
    {
     "data": {
      "text/plain": [
       "['Hex', 'nepal']"
      ]
     },
     "execution_count": 79,
     "metadata": {},
     "output_type": "execute_result"
    }
   ],
   "source": [
    "x"
   ]
  },
  {
   "cell_type": "code",
   "execution_count": 84,
   "id": "6131816a",
   "metadata": {},
   "outputs": [
    {
     "data": {
      "text/plain": [
       "True"
      ]
     },
     "execution_count": 84,
     "metadata": {},
     "output_type": "execute_result"
    }
   ],
   "source": [
    "\"Hex\" in x #it checks wheather the declared element is in list or not"
   ]
  },
  {
   "cell_type": "code",
   "execution_count": 83,
   "id": "a055714d",
   "metadata": {},
   "outputs": [
    {
     "data": {
      "text/plain": [
       "True"
      ]
     },
     "execution_count": 83,
     "metadata": {},
     "output_type": "execute_result"
    }
   ],
   "source": [
    "2 not in x"
   ]
  },
  {
   "cell_type": "markdown",
   "id": "3d17e91b",
   "metadata": {},
   "source": [
    "Dictionary (Important) "
   ]
  },
  {
   "cell_type": "code",
   "execution_count": 85,
   "id": "9750f5e8",
   "metadata": {},
   "outputs": [],
   "source": [
    "#collection of key value.. assingn by curly bracket{}"
   ]
  },
  {
   "cell_type": "code",
   "execution_count": 87,
   "id": "32add0a0",
   "metadata": {},
   "outputs": [],
   "source": [
    "info={'Name':'Sabina Bardewa',\n",
    "      'Roll no.':'34',\n",
    "      'College': 'Medhavi',\n",
    "      'Semester': 'Third',\n",
    "      'Program': 'BCIS'\n",
    "}"
   ]
  },
  {
   "cell_type": "code",
   "execution_count": 88,
   "id": "588ddac9",
   "metadata": {},
   "outputs": [
    {
     "data": {
      "text/plain": [
       "{'Name': 'Sabina Bardewa',\n",
       " 'Roll no.': '34',\n",
       " 'College': 'Medhavi',\n",
       " 'Semester': 'Third',\n",
       " 'Program': 'BCIS'}"
      ]
     },
     "execution_count": 88,
     "metadata": {},
     "output_type": "execute_result"
    }
   ],
   "source": [
    "info"
   ]
  },
  {
   "cell_type": "code",
   "execution_count": 90,
   "id": "bbe2a2fb",
   "metadata": {},
   "outputs": [
    {
     "data": {
      "text/plain": [
       "dict_keys(['Name', 'Roll no.', 'College', 'Semester', 'Program'])"
      ]
     },
     "execution_count": 90,
     "metadata": {},
     "output_type": "execute_result"
    }
   ],
   "source": [
    "info.keys()"
   ]
  },
  {
   "cell_type": "code",
   "execution_count": 91,
   "id": "328926aa",
   "metadata": {},
   "outputs": [
    {
     "data": {
      "text/plain": [
       "dict_values(['Sabina Bardewa', '34', 'Medhavi', 'Third', 'BCIS'])"
      ]
     },
     "execution_count": 91,
     "metadata": {},
     "output_type": "execute_result"
    }
   ],
   "source": [
    "info.values()"
   ]
  },
  {
   "cell_type": "code",
   "execution_count": 93,
   "id": "1c75d6a6",
   "metadata": {},
   "outputs": [
    {
     "data": {
      "text/plain": [
       "'Medhavi'"
      ]
     },
     "execution_count": 93,
     "metadata": {},
     "output_type": "execute_result"
    }
   ],
   "source": [
    "info['College']"
   ]
  },
  {
   "cell_type": "code",
   "execution_count": 94,
   "id": "5f822b3c",
   "metadata": {},
   "outputs": [],
   "source": [
    "info['College']='Uniglobe'#replacing the values"
   ]
  },
  {
   "cell_type": "code",
   "execution_count": 95,
   "id": "deba1af5",
   "metadata": {},
   "outputs": [
    {
     "data": {
      "text/plain": [
       "{'Name': 'Sabina Bardewa',\n",
       " 'Roll no.': '34',\n",
       " 'College': 'Uniglobe',\n",
       " 'Semester': 'Third',\n",
       " 'Program': 'BCIS'}"
      ]
     },
     "execution_count": 95,
     "metadata": {},
     "output_type": "execute_result"
    }
   ],
   "source": [
    "info"
   ]
  },
  {
   "cell_type": "code",
   "execution_count": 98,
   "id": "87b39e9b",
   "metadata": {},
   "outputs": [],
   "source": [
    "info['Remarks']='Topper'"
   ]
  },
  {
   "cell_type": "code",
   "execution_count": 99,
   "id": "f83dcf21",
   "metadata": {},
   "outputs": [
    {
     "data": {
      "text/plain": [
       "{'Name': 'Sabina Bardewa',\n",
       " 'Roll no.': '34',\n",
       " 'College': 'Uniglobe',\n",
       " 'Semester': 'Third',\n",
       " 'Program': 'BCIS',\n",
       " 'Remarks': 'Topper'}"
      ]
     },
     "execution_count": 99,
     "metadata": {},
     "output_type": "execute_result"
    }
   ],
   "source": [
    "info"
   ]
  },
  {
   "cell_type": "code",
   "execution_count": 100,
   "id": "56d27dd9",
   "metadata": {},
   "outputs": [
    {
     "data": {
      "text/plain": [
       "'Topper'"
      ]
     },
     "execution_count": 100,
     "metadata": {},
     "output_type": "execute_result"
    }
   ],
   "source": [
    "info.pop('Remarks')"
   ]
  },
  {
   "cell_type": "code",
   "execution_count": 101,
   "id": "fb4ff837",
   "metadata": {},
   "outputs": [
    {
     "data": {
      "text/plain": [
       "{'Name': 'Sabina Bardewa',\n",
       " 'Roll no.': '34',\n",
       " 'College': 'Uniglobe',\n",
       " 'Semester': 'Third',\n",
       " 'Program': 'BCIS'}"
      ]
     },
     "execution_count": 101,
     "metadata": {},
     "output_type": "execute_result"
    }
   ],
   "source": [
    "info"
   ]
  },
  {
   "cell_type": "code",
   "execution_count": 128,
   "id": "84fd2ac9",
   "metadata": {},
   "outputs": [
    {
     "ename": "SyntaxError",
     "evalue": "invalid syntax (1641009095.py, line 1)",
     "output_type": "error",
     "traceback": [
      "\u001b[1;36m  Cell \u001b[1;32mIn[128], line 1\u001b[1;36m\u001b[0m\n\u001b[1;33m    info.fromkeys('Name')|\u001b[0m\n\u001b[1;37m                          ^\u001b[0m\n\u001b[1;31mSyntaxError\u001b[0m\u001b[1;31m:\u001b[0m invalid syntax\n"
     ]
    }
   ],
   "source": [
    "info.fromkeys('Name')|"
   ]
  },
  {
   "cell_type": "code",
   "execution_count": 129,
   "id": "c0a26a15",
   "metadata": {},
   "outputs": [],
   "source": [
    "info.update({'Reg no.':'34567-890'})  #addition of key and values"
   ]
  },
  {
   "cell_type": "code",
   "execution_count": 110,
   "id": "2f3a434e",
   "metadata": {},
   "outputs": [
    {
     "data": {
      "text/plain": [
       "{'Name': 'Sabina Bardewa',\n",
       " 'Roll no.': '34',\n",
       " 'College': 'Uniglobe',\n",
       " 'Semester': 'Third',\n",
       " 'Program': 'BCIS',\n",
       " 'Reg no.': '34567-890'}"
      ]
     },
     "execution_count": 110,
     "metadata": {},
     "output_type": "execute_result"
    }
   ],
   "source": [
    "info"
   ]
  },
  {
   "cell_type": "code",
   "execution_count": 117,
   "id": "1227a3c1",
   "metadata": {},
   "outputs": [
    {
     "data": {
      "text/plain": [
       "'34567-890'"
      ]
     },
     "execution_count": 117,
     "metadata": {},
     "output_type": "execute_result"
    }
   ],
   "source": [
    "info.get('Reg no.')#shows the key value"
   ]
  },
  {
   "cell_type": "code",
   "execution_count": 1,
   "id": "ac748f2d",
   "metadata": {},
   "outputs": [
    {
     "ename": "NameError",
     "evalue": "name 'info' is not defined",
     "output_type": "error",
     "traceback": [
      "\u001b[1;31m---------------------------------------------------------------------------\u001b[0m",
      "\u001b[1;31mNameError\u001b[0m                                 Traceback (most recent call last)",
      "Cell \u001b[1;32mIn[1], line 1\u001b[0m\n\u001b[1;32m----> 1\u001b[0m \u001b[43minfo\u001b[49m\n",
      "\u001b[1;31mNameError\u001b[0m: name 'info' is not defined"
     ]
    }
   ],
   "source": [
    "info"
   ]
  },
  {
   "cell_type": "code",
   "execution_count": 4,
   "id": "35ae7bbd",
   "metadata": {},
   "outputs": [
    {
     "ename": "NameError",
     "evalue": "name 'info' is not defined",
     "output_type": "error",
     "traceback": [
      "\u001b[1;31m---------------------------------------------------------------------------\u001b[0m",
      "\u001b[1;31mNameError\u001b[0m                                 Traceback (most recent call last)",
      "Cell \u001b[1;32mIn[4], line 1\u001b[0m\n\u001b[1;32m----> 1\u001b[0m \u001b[38;5;28mtype\u001b[39m(\u001b[43minfo\u001b[49m)\n",
      "\u001b[1;31mNameError\u001b[0m: name 'info' is not defined"
     ]
    }
   ],
   "source": [
    "type(info)"
   ]
  },
  {
   "cell_type": "markdown",
   "id": "4ea27046",
   "metadata": {},
   "source": [
    "# Tuples"
   ]
  },
  {
   "cell_type": "code",
   "execution_count": 121,
   "id": "56fefdb9",
   "metadata": {},
   "outputs": [],
   "source": [
    "#tuple uses small bracket. It is unchangeable... same as list... we can't modify or update....\n"
   ]
  },
  {
   "cell_type": "code",
   "execution_count": 124,
   "id": "82f25f24",
   "metadata": {},
   "outputs": [],
   "source": [
    "a=(1,2,2,3,'hi')"
   ]
  },
  {
   "cell_type": "code",
   "execution_count": 125,
   "id": "073f26ea",
   "metadata": {},
   "outputs": [
    {
     "data": {
      "text/plain": [
       "2"
      ]
     },
     "execution_count": 125,
     "metadata": {},
     "output_type": "execute_result"
    }
   ],
   "source": [
    "a.count(2)"
   ]
  },
  {
   "cell_type": "code",
   "execution_count": 126,
   "id": "b81306ad",
   "metadata": {},
   "outputs": [
    {
     "data": {
      "text/plain": [
       "'Hex'"
      ]
     },
     "execution_count": 126,
     "metadata": {},
     "output_type": "execute_result"
    }
   ],
   "source": [
    "x[0]"
   ]
  },
  {
   "cell_type": "code",
   "execution_count": 127,
   "id": "bf5cbd2c",
   "metadata": {},
   "outputs": [
    {
     "data": {
      "text/plain": [
       "1"
      ]
     },
     "execution_count": 127,
     "metadata": {},
     "output_type": "execute_result"
    }
   ],
   "source": [
    "a[0]"
   ]
  },
  {
   "cell_type": "code",
   "execution_count": null,
   "id": "e4fa68f3",
   "metadata": {},
   "outputs": [],
   "source": []
  }
 ],
 "metadata": {
  "kernelspec": {
   "display_name": "Python 3 (ipykernel)",
   "language": "python",
   "name": "python3"
  },
  "language_info": {
   "codemirror_mode": {
    "name": "ipython",
    "version": 3
   },
   "file_extension": ".py",
   "mimetype": "text/x-python",
   "name": "python",
   "nbconvert_exporter": "python",
   "pygments_lexer": "ipython3",
   "version": "3.11.1"
  }
 },
 "nbformat": 4,
 "nbformat_minor": 5
}
