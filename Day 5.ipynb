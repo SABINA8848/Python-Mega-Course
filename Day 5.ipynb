{
 "cells": [
  {
   "cell_type": "markdown",
   "id": "59110878",
   "metadata": {},
   "source": [
    "# Tuples Continue\n"
   ]
  },
  {
   "cell_type": "code",
   "execution_count": 6,
   "id": "627ed1bf",
   "metadata": {},
   "outputs": [],
   "source": [
    "x=('strawberry', 'kiwi', 'mango', 'kiwi') #duplicate item is allowed"
   ]
  },
  {
   "cell_type": "code",
   "execution_count": 7,
   "id": "2eb90e20",
   "metadata": {},
   "outputs": [
    {
     "data": {
      "text/plain": [
       "('strawberry', 'kiwi', 'mango', 'kiwi')"
      ]
     },
     "execution_count": 7,
     "metadata": {},
     "output_type": "execute_result"
    }
   ],
   "source": [
    "x"
   ]
  },
  {
   "cell_type": "code",
   "execution_count": 8,
   "id": "af5b3136",
   "metadata": {},
   "outputs": [
    {
     "data": {
      "text/plain": [
       "4"
      ]
     },
     "execution_count": 8,
     "metadata": {},
     "output_type": "execute_result"
    }
   ],
   "source": [
    "len(x)"
   ]
  },
  {
   "cell_type": "code",
   "execution_count": 9,
   "id": "80b78b59",
   "metadata": {},
   "outputs": [
    {
     "data": {
      "text/plain": [
       "'kiwi'"
      ]
     },
     "execution_count": 9,
     "metadata": {},
     "output_type": "execute_result"
    }
   ],
   "source": [
    "x[3]"
   ]
  },
  {
   "cell_type": "code",
   "execution_count": 10,
   "id": "ba341245",
   "metadata": {},
   "outputs": [
    {
     "data": {
      "text/plain": [
       "('mango', 'kiwi')"
      ]
     },
     "execution_count": 10,
     "metadata": {},
     "output_type": "execute_result"
    }
   ],
   "source": [
    "x[2:5]"
   ]
  },
  {
   "cell_type": "code",
   "execution_count": 11,
   "id": "a2fc4e8e",
   "metadata": {},
   "outputs": [],
   "source": [
    "y=list(x)"
   ]
  },
  {
   "cell_type": "code",
   "execution_count": 12,
   "id": "402f2dfb",
   "metadata": {},
   "outputs": [
    {
     "data": {
      "text/plain": [
       "['strawberry', 'kiwi', 'mango', 'kiwi']"
      ]
     },
     "execution_count": 12,
     "metadata": {},
     "output_type": "execute_result"
    }
   ],
   "source": [
    "y"
   ]
  },
  {
   "cell_type": "code",
   "execution_count": 13,
   "id": "52d04ab4",
   "metadata": {},
   "outputs": [],
   "source": [
    "y[2]='berries'"
   ]
  },
  {
   "cell_type": "code",
   "execution_count": 14,
   "id": "8cc4d25f",
   "metadata": {},
   "outputs": [
    {
     "data": {
      "text/plain": [
       "['strawberry', 'kiwi', 'berries', 'kiwi']"
      ]
     },
     "execution_count": 14,
     "metadata": {},
     "output_type": "execute_result"
    }
   ],
   "source": [
    "y"
   ]
  },
  {
   "cell_type": "code",
   "execution_count": 15,
   "id": "ecae5ae4",
   "metadata": {},
   "outputs": [],
   "source": [
    "y.append('apple')"
   ]
  },
  {
   "cell_type": "code",
   "execution_count": 16,
   "id": "238a9ac5",
   "metadata": {},
   "outputs": [
    {
     "data": {
      "text/plain": [
       "['strawberry', 'kiwi', 'berries', 'kiwi', 'apple']"
      ]
     },
     "execution_count": 16,
     "metadata": {},
     "output_type": "execute_result"
    }
   ],
   "source": [
    "y"
   ]
  },
  {
   "cell_type": "code",
   "execution_count": 18,
   "id": "9dd4de38",
   "metadata": {},
   "outputs": [],
   "source": [
    "y.insert(1,'grapes')"
   ]
  },
  {
   "cell_type": "code",
   "execution_count": 19,
   "id": "9363aa10",
   "metadata": {},
   "outputs": [
    {
     "data": {
      "text/plain": [
       "['strawberry', 'grapes', 'kiwi', 'berries', 'kiwi', 'apple']"
      ]
     },
     "execution_count": 19,
     "metadata": {},
     "output_type": "execute_result"
    }
   ],
   "source": [
    "y"
   ]
  },
  {
   "cell_type": "code",
   "execution_count": 21,
   "id": "69b206fe",
   "metadata": {},
   "outputs": [],
   "source": [
    "x=tuple(y)"
   ]
  },
  {
   "cell_type": "code",
   "execution_count": 22,
   "id": "db8ee0b7",
   "metadata": {},
   "outputs": [
    {
     "data": {
      "text/plain": [
       "('strawberry', 'grapes', 'kiwi', 'berries', 'kiwi', 'apple')"
      ]
     },
     "execution_count": 22,
     "metadata": {},
     "output_type": "execute_result"
    }
   ],
   "source": [
    "x"
   ]
  },
  {
   "cell_type": "code",
   "execution_count": 23,
   "id": "5ff7eefe",
   "metadata": {},
   "outputs": [],
   "source": [
    "z=('Hexcode',)#single element lai tuple banauna use comma at last or else tyo string hunxa"
   ]
  },
  {
   "cell_type": "code",
   "execution_count": 25,
   "id": "6e7decec",
   "metadata": {},
   "outputs": [
    {
     "data": {
      "text/plain": [
       "tuple"
      ]
     },
     "execution_count": 25,
     "metadata": {},
     "output_type": "execute_result"
    }
   ],
   "source": [
    "type(z)"
   ]
  },
  {
   "cell_type": "markdown",
   "id": "f28ef3df",
   "metadata": {},
   "source": [
    "Set "
   ]
  },
  {
   "cell_type": "code",
   "execution_count": 26,
   "id": "a665333e",
   "metadata": {},
   "outputs": [],
   "source": [
    "s1={1,2,3,4,5,6}"
   ]
  },
  {
   "cell_type": "code",
   "execution_count": 27,
   "id": "ad1bf8dc",
   "metadata": {},
   "outputs": [
    {
     "data": {
      "text/plain": [
       "set"
      ]
     },
     "execution_count": 27,
     "metadata": {},
     "output_type": "execute_result"
    }
   ],
   "source": [
    "type(s1)"
   ]
  },
  {
   "cell_type": "code",
   "execution_count": 33,
   "id": "87ddcc8d",
   "metadata": {},
   "outputs": [],
   "source": [
    "s2={1,2,3,3,4,4,5,6,6}#set doesn't allow duplication of the element"
   ]
  },
  {
   "cell_type": "code",
   "execution_count": 34,
   "id": "ee153031",
   "metadata": {},
   "outputs": [
    {
     "data": {
      "text/plain": [
       "{1, 2, 3, 4, 5, 6}"
      ]
     },
     "execution_count": 34,
     "metadata": {},
     "output_type": "execute_result"
    }
   ],
   "source": [
    "s2"
   ]
  },
  {
   "cell_type": "code",
   "execution_count": 37,
   "id": "3adfe444",
   "metadata": {},
   "outputs": [],
   "source": [
    "s2.add(\"hello\") #you can't insert in set"
   ]
  },
  {
   "cell_type": "code",
   "execution_count": 39,
   "id": "fd5a5a71",
   "metadata": {},
   "outputs": [
    {
     "data": {
      "text/plain": [
       "{1, 2, 3, 4, 5, 6, 'hello'}"
      ]
     },
     "execution_count": 39,
     "metadata": {},
     "output_type": "execute_result"
    }
   ],
   "source": [
    "s2"
   ]
  },
  {
   "cell_type": "code",
   "execution_count": 40,
   "id": "0d44ceae",
   "metadata": {},
   "outputs": [],
   "source": [
    "s2.remove(6)"
   ]
  },
  {
   "cell_type": "code",
   "execution_count": 41,
   "id": "43b05632",
   "metadata": {},
   "outputs": [
    {
     "data": {
      "text/plain": [
       "{1, 2, 3, 4, 5, 'hello'}"
      ]
     },
     "execution_count": 41,
     "metadata": {},
     "output_type": "execute_result"
    }
   ],
   "source": [
    "s2"
   ]
  },
  {
   "cell_type": "code",
   "execution_count": 43,
   "id": "20e07fa5",
   "metadata": {},
   "outputs": [
    {
     "name": "stdout",
     "output_type": "stream",
     "text": [
      "1\n",
      "2\n",
      "3\n",
      "4\n",
      "5\n",
      "hello\n"
     ]
    }
   ],
   "source": [
    "for i in s2:\n",
    "    print(i)"
   ]
  },
  {
   "cell_type": "code",
   "execution_count": 44,
   "id": "d884dbd6",
   "metadata": {},
   "outputs": [],
   "source": [
    "s3=list(s2)"
   ]
  },
  {
   "cell_type": "code",
   "execution_count": 45,
   "id": "85284913",
   "metadata": {},
   "outputs": [
    {
     "data": {
      "text/plain": [
       "[1, 2, 3, 4, 5, 'hello']"
      ]
     },
     "execution_count": 45,
     "metadata": {},
     "output_type": "execute_result"
    }
   ],
   "source": [
    "s3"
   ]
  },
  {
   "cell_type": "code",
   "execution_count": 46,
   "id": "a6d91425",
   "metadata": {},
   "outputs": [],
   "source": [
    "s3[5]='sabina'"
   ]
  },
  {
   "cell_type": "code",
   "execution_count": 47,
   "id": "e93807ed",
   "metadata": {},
   "outputs": [
    {
     "data": {
      "text/plain": [
       "[1, 2, 3, 4, 5, 'sabina']"
      ]
     },
     "execution_count": 47,
     "metadata": {},
     "output_type": "execute_result"
    }
   ],
   "source": [
    "s3"
   ]
  },
  {
   "cell_type": "code",
   "execution_count": 48,
   "id": "d2961790",
   "metadata": {},
   "outputs": [],
   "source": [
    "s3.insert(1,\"hello\")"
   ]
  },
  {
   "cell_type": "code",
   "execution_count": 49,
   "id": "fb06a198",
   "metadata": {},
   "outputs": [
    {
     "data": {
      "text/plain": [
       "[1, 'hello', 2, 3, 4, 5, 'sabina']"
      ]
     },
     "execution_count": 49,
     "metadata": {},
     "output_type": "execute_result"
    }
   ],
   "source": [
    "s3"
   ]
  },
  {
   "cell_type": "code",
   "execution_count": 50,
   "id": "e370cfa3",
   "metadata": {},
   "outputs": [],
   "source": [
    "s2=set(s3)"
   ]
  },
  {
   "cell_type": "code",
   "execution_count": 51,
   "id": "d734a1f5",
   "metadata": {},
   "outputs": [
    {
     "data": {
      "text/plain": [
       "{1, 2, 3, 4, 5, 'hello', 'sabina'}"
      ]
     },
     "execution_count": 51,
     "metadata": {},
     "output_type": "execute_result"
    }
   ],
   "source": [
    "s2"
   ]
  },
  {
   "cell_type": "markdown",
   "id": "153359c7",
   "metadata": {},
   "source": [
    "# If Else Statement"
   ]
  },
  {
   "cell_type": "code",
   "execution_count": 60,
   "id": "c73dff0a",
   "metadata": {},
   "outputs": [
    {
     "name": "stdout",
     "output_type": "stream",
     "text": [
      "Enter any number:7\n"
     ]
    }
   ],
   "source": [
    "x=int(input('Enter any number:'))"
   ]
  },
  {
   "cell_type": "code",
   "execution_count": 61,
   "id": "07ad0c72",
   "metadata": {},
   "outputs": [
    {
     "name": "stdout",
     "output_type": "stream",
     "text": [
      "Number is Odd\n"
     ]
    }
   ],
   "source": [
    "if x%2==0:\n",
    "    print('Number is Even')\n",
    "else:\n",
    "    print('Number is Odd')"
   ]
  },
  {
   "cell_type": "code",
   "execution_count": 64,
   "id": "60a5d557",
   "metadata": {},
   "outputs": [],
   "source": [
    "#syntax  if codintion: code ... elif <codition> code...elif<codn> code... else"
   ]
  },
  {
   "cell_type": "code",
   "execution_count": 65,
   "id": "136070e3",
   "metadata": {},
   "outputs": [
    {
     "name": "stdout",
     "output_type": "stream",
     "text": [
      "Number is Odd\n"
     ]
    }
   ],
   "source": [
    "if x%2==0:\n",
    "    print('Number is Even')\n",
    "elif x%2!=0:\n",
    "    print('Number is Odd')\n",
    "else:\n",
    "    print('Number is Odd')"
   ]
  },
  {
   "cell_type": "markdown",
   "id": "937ad653",
   "metadata": {},
   "source": [
    "Exercise:\n",
    "1) Take input from user\n",
    "2) Classify the divisions using following reference \n",
    "     1)Marks is greater than equal to 80 distinction\n",
    "     2)greater equal to 69 and less than 80- first division\n",
    "     3)Greater equal to 40 and less than 60- Second division\n",
    "     4)less than 40- useless brat(Fail)\n",
    "     5)Else invalid marks"
   ]
  },
  {
   "cell_type": "code",
   "execution_count": 3,
   "id": "2077428c",
   "metadata": {},
   "outputs": [
    {
     "name": "stdout",
     "output_type": "stream",
     "text": [
      "Enter the marks obtained1000\n"
     ]
    }
   ],
   "source": [
    "m=float(input(\"Enter the marks obtained\"))"
   ]
  },
  {
   "cell_type": "code",
   "execution_count": 4,
   "id": "fd9f69e2",
   "metadata": {},
   "outputs": [
    {
     "name": "stdout",
     "output_type": "stream",
     "text": [
      "Invalid marks\n"
     ]
    }
   ],
   "source": [
    "if m>=80 and m<=100:\n",
    "    print('Result:Distinction')\n",
    "elif m>=69 and m<80:\n",
    "    print('Result:First Division')\n",
    "elif m>=40 and m<60:\n",
    "    print('Result:Second Division')\n",
    "elif m<=40:\n",
    "    print('Result:Fail')\n",
    "else:\n",
    "    print('Invalid marks')"
   ]
  },
  {
   "cell_type": "code",
   "execution_count": null,
   "id": "dac7cc2b",
   "metadata": {},
   "outputs": [],
   "source": []
  },
  {
   "cell_type": "code",
   "execution_count": null,
   "id": "eab5dd66",
   "metadata": {},
   "outputs": [],
   "source": []
  }
 ],
 "metadata": {
  "kernelspec": {
   "display_name": "Python 3 (ipykernel)",
   "language": "python",
   "name": "python3"
  },
  "language_info": {
   "codemirror_mode": {
    "name": "ipython",
    "version": 3
   },
   "file_extension": ".py",
   "mimetype": "text/x-python",
   "name": "python",
   "nbconvert_exporter": "python",
   "pygments_lexer": "ipython3",
   "version": "3.11.1"
  }
 },
 "nbformat": 4,
 "nbformat_minor": 5
}
