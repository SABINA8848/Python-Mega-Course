{
 "cells": [
  {
   "cell_type": "code",
   "execution_count": 1,
   "id": "3e6dd040",
   "metadata": {},
   "outputs": [],
   "source": [
    "x = 'HexCode'"
   ]
  },
  {
   "cell_type": "code",
   "execution_count": 2,
   "id": "e8981189",
   "metadata": {},
   "outputs": [],
   "source": [
    "y = 'Nepal'"
   ]
  },
  {
   "cell_type": "code",
   "execution_count": 8,
   "id": "392e92ff",
   "metadata": {},
   "outputs": [],
   "source": [
    "z = x+' '+y"
   ]
  },
  {
   "cell_type": "code",
   "execution_count": 9,
   "id": "3fbc6fc5",
   "metadata": {},
   "outputs": [
    {
     "name": "stdout",
     "output_type": "stream",
     "text": [
      "HexCode Nepal\n"
     ]
    }
   ],
   "source": [
    "print(z)"
   ]
  },
  {
   "cell_type": "code",
   "execution_count": null,
   "id": "f2a9bbd6",
   "metadata": {},
   "outputs": [],
   "source": []
  },
  {
   "cell_type": "code",
   "execution_count": 1,
   "id": "12e222a5",
   "metadata": {},
   "outputs": [
    {
     "name": "stdout",
     "output_type": "stream",
     "text": [
      "Enter your First Name: Sabina\n",
      "Enter your Last Name: Bardewa\n"
     ]
    }
   ],
   "source": [
    "f_name = input('Enter your First Name: ')\n",
    "l_name = input('Enter your Last Name: ')"
   ]
  },
  {
   "cell_type": "code",
   "execution_count": 3,
   "id": "d71189c1",
   "metadata": {},
   "outputs": [
    {
     "name": "stdout",
     "output_type": "stream",
     "text": [
      "Your name is Sabina Bardewa\n"
     ]
    }
   ],
   "source": [
    "print('Your name is '+f_name+' '+l_name)"
   ]
  },
  {
   "cell_type": "code",
   "execution_count": 7,
   "id": "852df6e2",
   "metadata": {},
   "outputs": [
    {
     "name": "stdout",
     "output_type": "stream",
     "text": [
      "Enter first number: 45\n",
      "Enter second number 54\n"
     ]
    }
   ],
   "source": [
    "num1= int(input('Enter first number: '))\n",
    "num2= int(input('Enter second number '))"
   ]
  },
  {
   "cell_type": "code",
   "execution_count": 14,
   "id": "eae9a840",
   "metadata": {},
   "outputs": [],
   "source": [
    "sum1=num1+num2"
   ]
  },
  {
   "cell_type": "code",
   "execution_count": 16,
   "id": "bbd2417f",
   "metadata": {},
   "outputs": [
    {
     "data": {
      "text/plain": [
       "99"
      ]
     },
     "execution_count": 16,
     "metadata": {},
     "output_type": "execute_result"
    }
   ],
   "source": [
    "sum1"
   ]
  },
  {
   "cell_type": "code",
   "execution_count": 17,
   "id": "b37a64ba",
   "metadata": {},
   "outputs": [
    {
     "name": "stdout",
     "output_type": "stream",
     "text": [
      "Enter First number4.78\n",
      "Enter Second number 5.67\n"
     ]
    }
   ],
   "source": [
    "num1=float(input('Enter First number'))\n",
    "num2=float(input('Enter Second number '))"
   ]
  },
  {
   "cell_type": "code",
   "execution_count": 20,
   "id": "41a7d6e4",
   "metadata": {},
   "outputs": [],
   "source": [
    "diff1=num1-num2"
   ]
  },
  {
   "cell_type": "code",
   "execution_count": 21,
   "id": "9f3ffc98",
   "metadata": {},
   "outputs": [
    {
     "data": {
      "text/plain": [
       "-0.8899999999999997"
      ]
     },
     "execution_count": 21,
     "metadata": {},
     "output_type": "execute_result"
    }
   ],
   "source": [
    "diff1"
   ]
  },
  {
   "cell_type": "code",
   "execution_count": 8,
   "id": "5201127f",
   "metadata": {},
   "outputs": [
    {
     "name": "stdout",
     "output_type": "stream",
     "text": [
      "Enter num12\n",
      "Enter num22\n"
     ]
    }
   ],
   "source": [
    "x=float(input('Enter num1'))\n",
    "y=float(input('Enter num2'))"
   ]
  },
  {
   "cell_type": "code",
   "execution_count": 10,
   "id": "5631f52b",
   "metadata": {},
   "outputs": [],
   "source": [
    "mul1=x*y"
   ]
  },
  {
   "cell_type": "code",
   "execution_count": 11,
   "id": "a65a393b",
   "metadata": {},
   "outputs": [
    {
     "data": {
      "text/plain": [
       "4.0"
      ]
     },
     "execution_count": 11,
     "metadata": {},
     "output_type": "execute_result"
    }
   ],
   "source": [
    "mul1"
   ]
  },
  {
   "cell_type": "code",
   "execution_count": 12,
   "id": "5792620e",
   "metadata": {},
   "outputs": [
    {
     "name": "stdout",
     "output_type": "stream",
     "text": [
      "The product is  4.0\n"
     ]
    }
   ],
   "source": [
    "print('The product is ',mul1)"
   ]
  },
  {
   "cell_type": "code",
   "execution_count": 13,
   "id": "a3c950ae",
   "metadata": {},
   "outputs": [
    {
     "data": {
      "text/plain": [
       "4.0"
      ]
     },
     "execution_count": 13,
     "metadata": {},
     "output_type": "execute_result"
    }
   ],
   "source": [
    "x**y"
   ]
  },
  {
   "cell_type": "code",
   "execution_count": 15,
   "id": "6ceec425",
   "metadata": {},
   "outputs": [
    {
     "data": {
      "text/plain": [
       "22084194078862586289072665017288000553948240708067134902028713802029898159526668356966051715711286026068440558517948989093773456280374110717610490927331147776"
      ]
     },
     "execution_count": 15,
     "metadata": {},
     "output_type": "execute_result"
    }
   ],
   "source": [
    "576**57"
   ]
  },
  {
   "cell_type": "code",
   "execution_count": 16,
   "id": "efc5b599",
   "metadata": {},
   "outputs": [
    {
     "data": {
      "text/plain": [
       "1.0"
      ]
     },
     "execution_count": 16,
     "metadata": {},
     "output_type": "execute_result"
    }
   ],
   "source": [
    "x/y"
   ]
  },
  {
   "cell_type": "code",
   "execution_count": 17,
   "id": "6e1b44b8",
   "metadata": {},
   "outputs": [
    {
     "data": {
      "text/plain": [
       "1.0"
      ]
     },
     "execution_count": 17,
     "metadata": {},
     "output_type": "execute_result"
    }
   ],
   "source": [
    "x//y"
   ]
  },
  {
   "cell_type": "code",
   "execution_count": 18,
   "id": "84e410d8",
   "metadata": {},
   "outputs": [
    {
     "data": {
      "text/plain": [
       "1"
      ]
     },
     "execution_count": 18,
     "metadata": {},
     "output_type": "execute_result"
    }
   ],
   "source": [
    "3//2"
   ]
  },
  {
   "cell_type": "code",
   "execution_count": 19,
   "id": "b97edb21",
   "metadata": {},
   "outputs": [
    {
     "data": {
      "text/plain": [
       "1.5"
      ]
     },
     "execution_count": 19,
     "metadata": {},
     "output_type": "execute_result"
    }
   ],
   "source": [
    "3/2"
   ]
  },
  {
   "cell_type": "code",
   "execution_count": 20,
   "id": "657e176a",
   "metadata": {},
   "outputs": [
    {
     "data": {
      "text/plain": [
       "1"
      ]
     },
     "execution_count": 20,
     "metadata": {},
     "output_type": "execute_result"
    }
   ],
   "source": [
    "3%2"
   ]
  },
  {
   "cell_type": "code",
   "execution_count": null,
   "id": "77c093ab",
   "metadata": {},
   "outputs": [],
   "source": []
  }
 ],
 "metadata": {
  "kernelspec": {
   "display_name": "Python 3 (ipykernel)",
   "language": "python",
   "name": "python3"
  },
  "language_info": {
   "codemirror_mode": {
    "name": "ipython",
    "version": 3
   },
   "file_extension": ".py",
   "mimetype": "text/x-python",
   "name": "python",
   "nbconvert_exporter": "python",
   "pygments_lexer": "ipython3",
   "version": "3.11.1"
  }
 },
 "nbformat": 4,
 "nbformat_minor": 5
}
